{
 "cells": [
  {
   "cell_type": "markdown",
   "metadata": {},
   "source": [
    "## In this project, we optimize the drag power of a wind turbine subject to certain constraints. \n",
    "\n",
    "Part of the Hack For Good Hackathon in Whitby (https://www.hackathon.com/event/hack-for-good---hackathon-for-environmental-innovation-41254373943), our team was trying to find optimal ways for people to design their own wind generators at home! This project was done to test the feasibility of this idea. "
   ]
  },
  {
   "cell_type": "markdown",
   "metadata": {},
   "source": [
    "### We follow the wind turbine equations outlined in (https://www.wikiwand.com/en/Wind-turbine_aerodynamics), and use the python cvxopt package to find the maximum of the the constrained convex optimization problem. "
   ]
  },
  {
   "cell_type": "markdown",
   "metadata": {},
   "source": [
    "P = 1/2 * rho * A * C * (U * V^2 - 2 * V * U^2 + U^3)\n",
    "             \n",
    "             \n",
    "Where rho is the air density (fixed), A is the area of the wind turbine (fixed), C is the drag coefficient of the wind turbine (fixed), U is the product of the (fixed) rotational wind speed Omega and the (variable) blade radius r, V is the wind speed. So, our variable of optimization is the radius of the wind turbine blade r, with constraints that it should remain within a certain bound, let's say the blade radius r has to be between one and two meters in length for now. We will assume, without loss of generality, that C=1 for now. "
   ]
  },
  {
   "cell_type": "code",
   "execution_count": 29,
   "metadata": {},
   "outputs": [
    {
     "name": "stdout",
     "output_type": "stream",
     "text": [
      "Problem Stats = optimal\n",
      "Optimal value = 0.1200000019631919\n",
      "Optimal Wind Turbine radius value  = [[0.2]]\n"
     ]
    }
   ],
   "source": [
    "import cvxpy as cp\n",
    "import numpy as np\n",
    "\n",
    "# We can set l = U/V, and make the substitution to simplify the problem:\n",
    "# Set up the optimization objective\n",
    "# P = C * (l - 2 * l**2 + l ** 3)\n",
    "\n",
    "# Set up the optimization constraints\n",
    "# create data P\n",
    "C = cp.Parameter((1,1))\n",
    "l = cp.Variable((1,1), PSD=True)\n",
    "                 \n",
    "# Relax it to a convex optimization problem, around the area [0, 1]:\n",
    "# In terms of the taylor expansion, this would be equal to removing the cubic term\n",
    "objective = cp.Maximize((l - 2 * cp.square(l)))\n",
    "prob = cp.Problem(objective, [l >= 0.1, l <= 0.2])\n",
    "C.value = np.matrix('1')\n",
    "prob.solve()\n",
    "print(\"Problem Stats =\", prob.status)\n",
    "print(\"Optimal value =\", prob.value)\n",
    "print(\"Optimal Wind Turbine radius value  =\", l.value)"
   ]
  },
  {
   "cell_type": "code",
   "execution_count": 35,
   "metadata": {},
   "outputs": [
    {
     "data": {
      "text/plain": [
       "<matplotlib.legend.Legend at 0x12c650748>"
      ]
     },
     "execution_count": 35,
     "metadata": {},
     "output_type": "execute_result"
    },
    {
     "data": {
      "image/png": "[encoded data removed]",
      "text/plain": [
       "<Figure size 432x288 with 1 Axes>"
      ]
     },
     "metadata": {
      "needs_background": "light"
     },
     "output_type": "display_data"
    }
   ],
   "source": [
    "# Problem seems to be convex, let's plot the objective function as it varies with l\n",
    "import matplotlib.pyplot as plt\n",
    "p = lambda x: 1 * (x - 2 * np.power(x, 2) + np.power(x, 3))\n",
    "p_approx = lambda x: 1 * (x - 2 * np.power(x, 2) + np.power(x, 3))\n",
    "x = np.linspace(0, 1, 50)\n",
    "plt.plot(x, p(x), label=\"True objective\")\n",
    "plt.scatter(x, p_approx(x), label=\"Second order approximation\")\n",
    "plt.axvline(x=0.1, label=\"Constraints\", c='magenta')\n",
    "plt.axvline(x=0.2, c='magenta')\n",
    "plt.legend()"
   ]
  },
  {
   "cell_type": "markdown",
   "metadata": {},
   "source": [
    "## We found that the wind turbine optimization problem can be relaxed to a convex optimization problem in the domain of the constraints, a solution was found and it was found that the constraints were active up until a wind turbine blade radius length of 1.0. "
   ]
  },
  {
   "cell_type": "code",
   "execution_count": null,
   "metadata": {},
   "outputs": [],
   "source": []
  }
 ],
 "metadata": {
  "kernelspec": {
   "display_name": "Python 3",
   "language": "python",
   "name": "python3"
  },
  "language_info": {
   "codemirror_mode": {
    "name": "ipython",
    "version": 3
   },
   "file_extension": ".py",
   "mimetype": "text/x-python",
   "name": "python",
   "nbconvert_exporter": "python",
   "pygments_lexer": "ipython3",
   "version": "3.6.10"
  }
 },
 "nbformat": 4,
 "nbformat_minor": 4
}
